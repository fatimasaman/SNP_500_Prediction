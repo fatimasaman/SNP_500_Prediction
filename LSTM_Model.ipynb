{
 "cells": [
  {
   "cell_type": "code",
   "execution_count": 17,
   "id": "a68b13c6-2c37-4645-8c79-67aaf5708b50",
   "metadata": {
    "execution": {
     "iopub.execute_input": "2022-12-20T23:51:21.832473Z",
     "iopub.status.busy": "2022-12-20T23:51:21.831684Z",
     "iopub.status.idle": "2022-12-20T23:51:21.843266Z",
     "shell.execute_reply": "2022-12-20T23:51:21.841061Z",
     "shell.execute_reply.started": "2022-12-20T23:51:21.832407Z"
    },
    "tags": []
   },
   "outputs": [],
   "source": [
    "# imports\n",
    "import numpy as np\n",
    "import pandas as pd\n",
    "\n",
    "from keras.models import Sequential\n",
    "from keras.layers import Dense\n",
    "from keras.layers import LSTM\n",
    "from keras.layers import Dropout\n",
    "from matplotlib import pyplot as plt"
   ]
  },
  {
   "cell_type": "code",
   "execution_count": 2,
   "id": "e48ed2c1-b4a0-455d-8d7d-f7b67924cd81",
   "metadata": {
    "execution": {
     "iopub.execute_input": "2022-12-20T23:49:52.725484Z",
     "iopub.status.busy": "2022-12-20T23:49:52.725195Z",
     "iopub.status.idle": "2022-12-20T23:49:52.744798Z",
     "shell.execute_reply": "2022-12-20T23:49:52.744319Z",
     "shell.execute_reply.started": "2022-12-20T23:49:52.725455Z"
    },
    "tags": []
   },
   "outputs": [
    {
     "data": {
      "text/html": [
       "<div>\n",
       "<style scoped>\n",
       "    .dataframe tbody tr th:only-of-type {\n",
       "        vertical-align: middle;\n",
       "    }\n",
       "\n",
       "    .dataframe tbody tr th {\n",
       "        vertical-align: top;\n",
       "    }\n",
       "\n",
       "    .dataframe thead th {\n",
       "        text-align: right;\n",
       "    }\n",
       "</style>\n",
       "<table border=\"1\" class=\"dataframe\">\n",
       "  <thead>\n",
       "    <tr style=\"text-align: right;\">\n",
       "      <th></th>\n",
       "      <th>Date</th>\n",
       "      <th>Close/Last</th>\n",
       "      <th>Volume</th>\n",
       "      <th>Open</th>\n",
       "      <th>High</th>\n",
       "      <th>Low</th>\n",
       "    </tr>\n",
       "  </thead>\n",
       "  <tbody>\n",
       "    <tr>\n",
       "      <th>2544</th>\n",
       "      <td>2012-12-20</td>\n",
       "      <td>1443.69</td>\n",
       "      <td>--</td>\n",
       "      <td>1435.81</td>\n",
       "      <td>1443.70</td>\n",
       "      <td>1432.82</td>\n",
       "    </tr>\n",
       "    <tr>\n",
       "      <th>2543</th>\n",
       "      <td>2012-12-21</td>\n",
       "      <td>1430.15</td>\n",
       "      <td>--</td>\n",
       "      <td>1443.67</td>\n",
       "      <td>1443.67</td>\n",
       "      <td>1422.58</td>\n",
       "    </tr>\n",
       "    <tr>\n",
       "      <th>2542</th>\n",
       "      <td>2012-12-24</td>\n",
       "      <td>1426.66</td>\n",
       "      <td>--</td>\n",
       "      <td>1430.15</td>\n",
       "      <td>1430.15</td>\n",
       "      <td>1424.66</td>\n",
       "    </tr>\n",
       "    <tr>\n",
       "      <th>2541</th>\n",
       "      <td>2012-12-25</td>\n",
       "      <td>1426.66</td>\n",
       "      <td>--</td>\n",
       "      <td>0.00</td>\n",
       "      <td>0.00</td>\n",
       "      <td>0.00</td>\n",
       "    </tr>\n",
       "    <tr>\n",
       "      <th>2540</th>\n",
       "      <td>2012-12-26</td>\n",
       "      <td>1419.83</td>\n",
       "      <td>--</td>\n",
       "      <td>1426.66</td>\n",
       "      <td>1429.42</td>\n",
       "      <td>1416.43</td>\n",
       "    </tr>\n",
       "  </tbody>\n",
       "</table>\n",
       "</div>"
      ],
      "text/plain": [
       "           Date  Close/Last Volume     Open     High      Low\n",
       "2544 2012-12-20     1443.69     --  1435.81  1443.70  1432.82\n",
       "2543 2012-12-21     1430.15     --  1443.67  1443.67  1422.58\n",
       "2542 2012-12-24     1426.66     --  1430.15  1430.15  1424.66\n",
       "2541 2012-12-25     1426.66     --     0.00     0.00     0.00\n",
       "2540 2012-12-26     1419.83     --  1426.66  1429.42  1416.43"
      ]
     },
     "execution_count": 2,
     "metadata": {},
     "output_type": "execute_result"
    }
   ],
   "source": [
    "df = pd.read_csv(\"S&P_data.csv\")\n",
    "\n",
    "df['Date']=pd.to_datetime(df['Date'].astype(str), format='%m/%d/%Y')\n",
    "df = df.sort_values(by = \"Date\", ascending = True)\n",
    "\n",
    "df.head()"
   ]
  },
  {
   "cell_type": "code",
   "execution_count": 3,
   "id": "98d7098f-b838-4613-ac2c-cd4fda0b8a87",
   "metadata": {
    "execution": {
     "iopub.execute_input": "2022-12-20T23:49:52.745567Z",
     "iopub.status.busy": "2022-12-20T23:49:52.745368Z",
     "iopub.status.idle": "2022-12-20T23:49:52.752476Z",
     "shell.execute_reply": "2022-12-20T23:49:52.752013Z",
     "shell.execute_reply.started": "2022-12-20T23:49:52.745554Z"
    },
    "tags": []
   },
   "outputs": [
    {
     "data": {
      "text/html": [
       "<div>\n",
       "<style scoped>\n",
       "    .dataframe tbody tr th:only-of-type {\n",
       "        vertical-align: middle;\n",
       "    }\n",
       "\n",
       "    .dataframe tbody tr th {\n",
       "        vertical-align: top;\n",
       "    }\n",
       "\n",
       "    .dataframe thead th {\n",
       "        text-align: right;\n",
       "    }\n",
       "</style>\n",
       "<table border=\"1\" class=\"dataframe\">\n",
       "  <thead>\n",
       "    <tr style=\"text-align: right;\">\n",
       "      <th></th>\n",
       "      <th>Date</th>\n",
       "      <th>Close/Last</th>\n",
       "      <th>Volume</th>\n",
       "      <th>Open</th>\n",
       "      <th>High</th>\n",
       "      <th>Low</th>\n",
       "    </tr>\n",
       "  </thead>\n",
       "  <tbody>\n",
       "    <tr>\n",
       "      <th>4</th>\n",
       "      <td>2022-12-13</td>\n",
       "      <td>4019.65</td>\n",
       "      <td>--</td>\n",
       "      <td>4069.38</td>\n",
       "      <td>4100.96</td>\n",
       "      <td>3993.03</td>\n",
       "    </tr>\n",
       "    <tr>\n",
       "      <th>3</th>\n",
       "      <td>2022-12-14</td>\n",
       "      <td>3995.32</td>\n",
       "      <td>--</td>\n",
       "      <td>4015.54</td>\n",
       "      <td>4053.76</td>\n",
       "      <td>3965.65</td>\n",
       "    </tr>\n",
       "    <tr>\n",
       "      <th>2</th>\n",
       "      <td>2022-12-15</td>\n",
       "      <td>3895.75</td>\n",
       "      <td>--</td>\n",
       "      <td>3958.37</td>\n",
       "      <td>3958.37</td>\n",
       "      <td>3879.45</td>\n",
       "    </tr>\n",
       "    <tr>\n",
       "      <th>1</th>\n",
       "      <td>2022-12-16</td>\n",
       "      <td>3852.36</td>\n",
       "      <td>--</td>\n",
       "      <td>3890.91</td>\n",
       "      <td>3890.91</td>\n",
       "      <td>3827.91</td>\n",
       "    </tr>\n",
       "    <tr>\n",
       "      <th>0</th>\n",
       "      <td>2022-12-19</td>\n",
       "      <td>3817.66</td>\n",
       "      <td>--</td>\n",
       "      <td>3853.79</td>\n",
       "      <td>3854.86</td>\n",
       "      <td>3800.04</td>\n",
       "    </tr>\n",
       "  </tbody>\n",
       "</table>\n",
       "</div>"
      ],
      "text/plain": [
       "        Date  Close/Last Volume     Open     High      Low\n",
       "4 2022-12-13     4019.65     --  4069.38  4100.96  3993.03\n",
       "3 2022-12-14     3995.32     --  4015.54  4053.76  3965.65\n",
       "2 2022-12-15     3895.75     --  3958.37  3958.37  3879.45\n",
       "1 2022-12-16     3852.36     --  3890.91  3890.91  3827.91\n",
       "0 2022-12-19     3817.66     --  3853.79  3854.86  3800.04"
      ]
     },
     "execution_count": 3,
     "metadata": {},
     "output_type": "execute_result"
    }
   ],
   "source": [
    "df.tail()"
   ]
  },
  {
   "cell_type": "markdown",
   "id": "28460100-cd2b-407a-80a6-8bc7e8c61c43",
   "metadata": {},
   "source": [
    "## Plot of S&P 500 Close Value"
   ]
  },
  {
   "cell_type": "code",
   "execution_count": 4,
   "id": "008986e4-67e9-46b6-88b7-efe7ea66b07a",
   "metadata": {
    "execution": {
     "iopub.execute_input": "2022-12-20T23:49:52.753785Z",
     "iopub.status.busy": "2022-12-20T23:49:52.753574Z",
     "iopub.status.idle": "2022-12-20T23:49:52.929859Z",
     "shell.execute_reply": "2022-12-20T23:49:52.929361Z",
     "shell.execute_reply.started": "2022-12-20T23:49:52.753771Z"
    },
    "tags": []
   },
   "outputs": [
    {
     "data": {
      "text/plain": [
       "Text(0, 0.5, 'Close/Last')"
      ]
     },
     "execution_count": 4,
     "metadata": {},
     "output_type": "execute_result"
    },
    {
     "data": {
      "image/png": "[encoded data removed]",
      "text/plain": [
       "<Figure size 640x480 with 1 Axes>"
      ]
     },
     "metadata": {},
     "output_type": "display_data"
    }
   ],
   "source": [
    "# Plotting the time series of given dataframe\n",
    "plt.plot(df.Date, df['Close/Last'])\n",
    " \n",
    "# Giving title to the chart using plt.title\n",
    "plt.title('Indices-Close/Last')\n",
    " \n",
    "# rotating the x-axis tick labels at 30degree\n",
    "# towards right\n",
    "plt.xticks(rotation=30, ha='right')\n",
    " \n",
    "# Providing x and y label to the chart\n",
    "plt.xlabel('Date')\n",
    "plt.ylabel('Close/Last')\n"
   ]
  },
  {
   "cell_type": "markdown",
   "id": "c68ea8bb-479e-43f4-a479-d13d76a5fe85",
   "metadata": {},
   "source": [
    "# Data Preprocessing"
   ]
  },
  {
   "cell_type": "code",
   "execution_count": 5,
   "id": "e9251ed6-4871-4d87-86ef-19e7bcfc80fc",
   "metadata": {
    "execution": {
     "iopub.execute_input": "2022-12-20T23:49:52.930595Z",
     "iopub.status.busy": "2022-12-20T23:49:52.930396Z",
     "iopub.status.idle": "2022-12-20T23:49:52.936210Z",
     "shell.execute_reply": "2022-12-20T23:49:52.935847Z",
     "shell.execute_reply.started": "2022-12-20T23:49:52.930582Z"
    },
    "tags": []
   },
   "outputs": [
    {
     "data": {
      "text/plain": [
       "Date          0\n",
       "Close/Last    0\n",
       "Volume        0\n",
       "Open          0\n",
       "High          0\n",
       "Low           0\n",
       "dtype: int64"
      ]
     },
     "execution_count": 5,
     "metadata": {},
     "output_type": "execute_result"
    }
   ],
   "source": [
    "# count any NAN values\n",
    "df.isna().sum()"
   ]
  },
  {
   "cell_type": "markdown",
   "id": "1580dfb7-5389-48a1-9883-337c5b683964",
   "metadata": {},
   "source": [
    "We are going to train the model on Close/Last index value"
   ]
  },
  {
   "cell_type": "code",
   "execution_count": 6,
   "id": "243b8a06-2c75-4b42-95b0-cde8c16aa3df",
   "metadata": {
    "execution": {
     "iopub.execute_input": "2022-12-20T23:49:52.936945Z",
     "iopub.status.busy": "2022-12-20T23:49:52.936722Z",
     "iopub.status.idle": "2022-12-20T23:49:52.943319Z",
     "shell.execute_reply": "2022-12-20T23:49:52.942840Z",
     "shell.execute_reply.started": "2022-12-20T23:49:52.936931Z"
    },
    "tags": []
   },
   "outputs": [
    {
     "data": {
      "text/html": [
       "<div>\n",
       "<style scoped>\n",
       "    .dataframe tbody tr th:only-of-type {\n",
       "        vertical-align: middle;\n",
       "    }\n",
       "\n",
       "    .dataframe tbody tr th {\n",
       "        vertical-align: top;\n",
       "    }\n",
       "\n",
       "    .dataframe thead th {\n",
       "        text-align: right;\n",
       "    }\n",
       "</style>\n",
       "<table border=\"1\" class=\"dataframe\">\n",
       "  <thead>\n",
       "    <tr style=\"text-align: right;\">\n",
       "      <th></th>\n",
       "      <th>Close/Last</th>\n",
       "    </tr>\n",
       "  </thead>\n",
       "  <tbody>\n",
       "    <tr>\n",
       "      <th>2544</th>\n",
       "      <td>1443.69</td>\n",
       "    </tr>\n",
       "    <tr>\n",
       "      <th>2543</th>\n",
       "      <td>1430.15</td>\n",
       "    </tr>\n",
       "    <tr>\n",
       "      <th>2542</th>\n",
       "      <td>1426.66</td>\n",
       "    </tr>\n",
       "    <tr>\n",
       "      <th>2541</th>\n",
       "      <td>1426.66</td>\n",
       "    </tr>\n",
       "    <tr>\n",
       "      <th>2540</th>\n",
       "      <td>1419.83</td>\n",
       "    </tr>\n",
       "    <tr>\n",
       "      <th>...</th>\n",
       "      <td>...</td>\n",
       "    </tr>\n",
       "    <tr>\n",
       "      <th>4</th>\n",
       "      <td>4019.65</td>\n",
       "    </tr>\n",
       "    <tr>\n",
       "      <th>3</th>\n",
       "      <td>3995.32</td>\n",
       "    </tr>\n",
       "    <tr>\n",
       "      <th>2</th>\n",
       "      <td>3895.75</td>\n",
       "    </tr>\n",
       "    <tr>\n",
       "      <th>1</th>\n",
       "      <td>3852.36</td>\n",
       "    </tr>\n",
       "    <tr>\n",
       "      <th>0</th>\n",
       "      <td>3817.66</td>\n",
       "    </tr>\n",
       "  </tbody>\n",
       "</table>\n",
       "<p>2545 rows × 1 columns</p>\n",
       "</div>"
      ],
      "text/plain": [
       "      Close/Last\n",
       "2544     1443.69\n",
       "2543     1430.15\n",
       "2542     1426.66\n",
       "2541     1426.66\n",
       "2540     1419.83\n",
       "...          ...\n",
       "4        4019.65\n",
       "3        3995.32\n",
       "2        3895.75\n",
       "1        3852.36\n",
       "0        3817.66\n",
       "\n",
       "[2545 rows x 1 columns]"
      ]
     },
     "execution_count": 6,
     "metadata": {},
     "output_type": "execute_result"
    }
   ],
   "source": [
    "# \n",
    "data = df[['Close/Last']]\n",
    "data"
   ]
  },
  {
   "cell_type": "markdown",
   "id": "80199f24-bacb-4579-84c1-6942282f02c8",
   "metadata": {},
   "source": [
    "## Feature Scaling"
   ]
  },
  {
   "cell_type": "code",
   "execution_count": 7,
   "id": "f2a02165-4c71-4c6d-b6e8-085038f87e86",
   "metadata": {
    "execution": {
     "iopub.execute_input": "2022-12-20T23:49:52.944132Z",
     "iopub.status.busy": "2022-12-20T23:49:52.943953Z",
     "iopub.status.idle": "2022-12-20T23:49:53.087619Z",
     "shell.execute_reply": "2022-12-20T23:49:53.087150Z",
     "shell.execute_reply.started": "2022-12-20T23:49:52.944120Z"
    },
    "tags": []
   },
   "outputs": [],
   "source": [
    "from sklearn.preprocessing import MinMaxScaler\n",
    "scaler = MinMaxScaler(feature_range=(0, 1))\n",
    "data = scaler.fit_transform(data)"
   ]
  },
  {
   "cell_type": "markdown",
   "id": "e61fd286-3deb-48e2-8f41-a1d6875a61d0",
   "metadata": {},
   "source": [
    "## Preparing Training and Test Datasets"
   ]
  },
  {
   "cell_type": "code",
   "execution_count": 8,
   "id": "6cab73f0-affc-4ba5-b183-8fdbf4b2a641",
   "metadata": {
    "execution": {
     "iopub.execute_input": "2022-12-20T23:49:53.088208Z",
     "iopub.status.busy": "2022-12-20T23:49:53.088077Z",
     "iopub.status.idle": "2022-12-20T23:49:53.091493Z",
     "shell.execute_reply": "2022-12-20T23:49:53.091070Z",
     "shell.execute_reply.started": "2022-12-20T23:49:53.088195Z"
    },
    "tags": []
   },
   "outputs": [
    {
     "name": "stdout",
     "output_type": "stream",
     "text": [
      "Shape of training vector (1781, 1)\n",
      "Shape of test vector (764, 1)\n"
     ]
    }
   ],
   "source": [
    "data = data.astype('float32')\n",
    "\n",
    "train_size = int(len(data) * 0.7)\n",
    "test_size = len(data) - train_size\n",
    "\n",
    "train = data[0:train_size,:]\n",
    "test = data[train_size:len(data),:]\n",
    "\n",
    "train = data[0:train_size,:]\n",
    "test = data[train_size:len(data),:]\n",
    "\n",
    "print(\"Shape of training vector\", train.shape)\n",
    "print(\"Shape of test vector\", test.shape)"
   ]
  },
  {
   "cell_type": "code",
   "execution_count": 9,
   "id": "741fc392-679d-4157-baa8-8b886103395a",
   "metadata": {
    "execution": {
     "iopub.execute_input": "2022-12-20T23:49:53.092187Z",
     "iopub.status.busy": "2022-12-20T23:49:53.092009Z",
     "iopub.status.idle": "2022-12-20T23:49:53.095893Z",
     "shell.execute_reply": "2022-12-20T23:49:53.095467Z",
     "shell.execute_reply.started": "2022-12-20T23:49:53.092168Z"
    },
    "tags": []
   },
   "outputs": [],
   "source": [
    "def generate_sequence(data, lookback=10):\n",
    "    \"\"\"\n",
    "    Function to generate sequence of data by using lookback as step size\n",
    "    \"\"\"\n",
    "    X, Y = [], []\n",
    "    for i in range(len(data)-lookback-1):\n",
    "        X.append(data[i:(i+lookback),0])\n",
    "        Y.append(data[i + lookback,0])\n",
    "    return np.array(X), np.array(Y)"
   ]
  },
  {
   "cell_type": "code",
   "execution_count": 10,
   "id": "85efca92-08a0-4817-a465-187072758596",
   "metadata": {
    "execution": {
     "iopub.execute_input": "2022-12-20T23:49:53.096650Z",
     "iopub.status.busy": "2022-12-20T23:49:53.096502Z",
     "iopub.status.idle": "2022-12-20T23:49:53.102257Z",
     "shell.execute_reply": "2022-12-20T23:49:53.101825Z",
     "shell.execute_reply.started": "2022-12-20T23:49:53.096637Z"
    },
    "tags": []
   },
   "outputs": [
    {
     "name": "stdout",
     "output_type": "stream",
     "text": [
      "Shape of X_train (1770, 1, 10)\n",
      "Shape of Y_train (1770,)\n",
      "Shape of X_train (753, 1, 10)\n",
      "Shape of Y_test (753,)\n"
     ]
    }
   ],
   "source": [
    "lookback = 10\n",
    "\n",
    "X_train, Y_train = generate_sequence(train, lookback)\n",
    "X_train = np.reshape(X_train, (X_train.shape[0], 1, X_train.shape[1]))\n",
    "\n",
    "print(\"Shape of X_train\", X_train.shape)\n",
    "print(\"Shape of Y_train\", Y_train.shape)\n",
    "\n",
    "X_test, Y_test = generate_sequence(test, lookback)\n",
    "X_test = np.reshape(X_test, (X_test.shape[0], 1, X_test.shape[1]))\n",
    "\n",
    "print(\"Shape of X_train\", X_test.shape)\n",
    "print(\"Shape of Y_test\", Y_test.shape)"
   ]
  },
  {
   "cell_type": "markdown",
   "id": "fe66b10e-7ccd-4177-8a8e-b45643d7dec6",
   "metadata": {},
   "source": [
    "# Model Training"
   ]
  },
  {
   "cell_type": "markdown",
   "id": "a67a85d5-6bdf-4eb1-9894-6fcdafbe448e",
   "metadata": {},
   "source": [
    "## Model Definition"
   ]
  },
  {
   "cell_type": "code",
   "execution_count": 16,
   "id": "89cc3cf0-4b3a-4a38-9145-6310ebe1e267",
   "metadata": {
    "execution": {
     "iopub.execute_input": "2022-12-20T23:51:14.796989Z",
     "iopub.status.busy": "2022-12-20T23:51:14.796490Z",
     "iopub.status.idle": "2022-12-20T23:51:14.969905Z",
     "shell.execute_reply": "2022-12-20T23:51:14.969458Z",
     "shell.execute_reply.started": "2022-12-20T23:51:14.796948Z"
    },
    "tags": []
   },
   "outputs": [
    {
     "name": "stdout",
     "output_type": "stream",
     "text": [
      "Model: \"sequential_1\"\n",
      "_________________________________________________________________\n",
      " Layer (type)                Output Shape              Param #   \n",
      "=================================================================\n",
      " lstm_1 (LSTM)               (None, 8)                 608       \n",
      "                                                                 \n",
      " dropout_1 (Dropout)         (None, 8)                 0         \n",
      "                                                                 \n",
      " dense_1 (Dense)             (None, 1)                 9         \n",
      "                                                                 \n",
      "=================================================================\n",
      "Total params: 617\n",
      "Trainable params: 617\n",
      "Non-trainable params: 0\n",
      "_________________________________________________________________\n"
     ]
    }
   ],
   "source": [
    "INPUT_NODES = 8\n",
    "\n",
    "lstm_model = Sequential()\n",
    "lstm_model.add(LSTM(INPUT_NODES, input_shape=(1, lookback)))\n",
    "lstm_model.add(Dropout(0.4))\n",
    "lstm_model.add(Dense(1))\n",
    "lstm_model.compile(loss=\"mse\", optimizer=\"adam\")\n",
    "\n",
    "lstm_model.summary()"
   ]
  },
  {
   "cell_type": "code",
   "execution_count": 12,
   "id": "a7a9b809-e965-4e1d-8f31-72835caf553a",
   "metadata": {
    "execution": {
     "iopub.execute_input": "2022-12-20T23:49:53.766805Z",
     "iopub.status.busy": "2022-12-20T23:49:53.766641Z",
     "iopub.status.idle": "2022-12-20T23:49:57.173427Z",
     "shell.execute_reply": "2022-12-20T23:49:57.172979Z",
     "shell.execute_reply.started": "2022-12-20T23:49:53.766792Z"
    },
    "tags": []
   },
   "outputs": [
    {
     "name": "stdout",
     "output_type": "stream",
     "text": [
      "Epoch 1/40\n",
      " 1/28 [>.............................] - ETA: 40s - loss: 0.1064"
     ]
    },
    {
     "name": "stderr",
     "output_type": "stream",
     "text": [
      "2022-12-20 18:49:55.133751: I tensorflow/stream_executor/cuda/cuda_dnn.cc:384] Loaded cuDNN version 8500\n"
     ]
    },
    {
     "name": "stdout",
     "output_type": "stream",
     "text": [
      "28/28 [==============================] - 2s 2ms/step - loss: 0.0633\n",
      "Epoch 2/40\n",
      "28/28 [==============================] - 0s 2ms/step - loss: 0.0233\n",
      "Epoch 3/40\n",
      "28/28 [==============================] - 0s 2ms/step - loss: 0.0102\n",
      "Epoch 4/40\n",
      "28/28 [==============================] - 0s 2ms/step - loss: 0.0080\n",
      "Epoch 5/40\n",
      "28/28 [==============================] - 0s 2ms/step - loss: 0.0073\n",
      "Epoch 6/40\n",
      "28/28 [==============================] - 0s 2ms/step - loss: 0.0066\n",
      "Epoch 7/40\n",
      "28/28 [==============================] - 0s 2ms/step - loss: 0.0065\n",
      "Epoch 8/40\n",
      "28/28 [==============================] - 0s 2ms/step - loss: 0.0060\n",
      "Epoch 9/40\n",
      "28/28 [==============================] - 0s 2ms/step - loss: 0.0055\n",
      "Epoch 10/40\n",
      "28/28 [==============================] - 0s 2ms/step - loss: 0.0055\n",
      "Epoch 11/40\n",
      "28/28 [==============================] - 0s 2ms/step - loss: 0.0054\n",
      "Epoch 12/40\n",
      "28/28 [==============================] - 0s 2ms/step - loss: 0.0046\n",
      "Epoch 13/40\n",
      "28/28 [==============================] - 0s 2ms/step - loss: 0.0044\n",
      "Epoch 14/40\n",
      "28/28 [==============================] - 0s 2ms/step - loss: 0.0043\n",
      "Epoch 15/40\n",
      "28/28 [==============================] - 0s 2ms/step - loss: 0.0043\n",
      "Epoch 16/40\n",
      "28/28 [==============================] - 0s 2ms/step - loss: 0.0042\n",
      "Epoch 17/40\n",
      "28/28 [==============================] - 0s 2ms/step - loss: 0.0037\n",
      "Epoch 18/40\n",
      "28/28 [==============================] - 0s 2ms/step - loss: 0.0040\n",
      "Epoch 19/40\n",
      "28/28 [==============================] - 0s 2ms/step - loss: 0.0036\n",
      "Epoch 20/40\n",
      "28/28 [==============================] - 0s 2ms/step - loss: 0.0038\n",
      "Epoch 21/40\n",
      "28/28 [==============================] - 0s 2ms/step - loss: 0.0031\n",
      "Epoch 22/40\n",
      "28/28 [==============================] - 0s 1ms/step - loss: 0.0031\n",
      "Epoch 23/40\n",
      "28/28 [==============================] - 0s 1ms/step - loss: 0.0034\n",
      "Epoch 24/40\n",
      "28/28 [==============================] - 0s 2ms/step - loss: 0.0032\n",
      "Epoch 25/40\n",
      "28/28 [==============================] - 0s 2ms/step - loss: 0.0032\n",
      "Epoch 26/40\n",
      "28/28 [==============================] - 0s 2ms/step - loss: 0.0030\n",
      "Epoch 27/40\n",
      "28/28 [==============================] - 0s 2ms/step - loss: 0.0030\n",
      "Epoch 28/40\n",
      "28/28 [==============================] - 0s 2ms/step - loss: 0.0028\n",
      "Epoch 29/40\n",
      "28/28 [==============================] - 0s 2ms/step - loss: 0.0027\n",
      "Epoch 30/40\n",
      "28/28 [==============================] - 0s 2ms/step - loss: 0.0027\n",
      "Epoch 31/40\n",
      "28/28 [==============================] - 0s 2ms/step - loss: 0.0025\n",
      "Epoch 32/40\n",
      "28/28 [==============================] - 0s 2ms/step - loss: 0.0026\n",
      "Epoch 33/40\n",
      "28/28 [==============================] - 0s 2ms/step - loss: 0.0025\n",
      "Epoch 34/40\n",
      "28/28 [==============================] - 0s 2ms/step - loss: 0.0023\n",
      "Epoch 35/40\n",
      "28/28 [==============================] - 0s 2ms/step - loss: 0.0023\n",
      "Epoch 36/40\n",
      "28/28 [==============================] - 0s 2ms/step - loss: 0.0023\n",
      "Epoch 37/40\n",
      "28/28 [==============================] - 0s 2ms/step - loss: 0.0023\n",
      "Epoch 38/40\n",
      "28/28 [==============================] - 0s 1ms/step - loss: 0.0021\n",
      "Epoch 39/40\n",
      "28/28 [==============================] - 0s 2ms/step - loss: 0.0022\n",
      "Epoch 40/40\n",
      "28/28 [==============================] - 0s 2ms/step - loss: 0.0020\n"
     ]
    },
    {
     "data": {
      "text/plain": [
       "<keras.callbacks.History at 0x7fb7f023b490>"
      ]
     },
     "execution_count": 12,
     "metadata": {},
     "output_type": "execute_result"
    }
   ],
   "source": [
    "lstm_model.fit(X_train, Y_train, epochs=40, batch_size=64, verbose=1)"
   ]
  },
  {
   "cell_type": "code",
   "execution_count": 13,
   "id": "4450c92d-a5ab-46ec-a183-a229f6f62d73",
   "metadata": {
    "execution": {
     "iopub.execute_input": "2022-12-20T23:49:57.174965Z",
     "iopub.status.busy": "2022-12-20T23:49:57.174747Z",
     "iopub.status.idle": "2022-12-20T23:49:57.550338Z",
     "shell.execute_reply": "2022-12-20T23:49:57.549864Z",
     "shell.execute_reply.started": "2022-12-20T23:49:57.174945Z"
    },
    "tags": []
   },
   "outputs": [
    {
     "name": "stdout",
     "output_type": "stream",
     "text": [
      "56/56 [==============================] - 0s 857us/step\n",
      "24/24 [==============================] - 0s 960us/step\n"
     ]
    }
   ],
   "source": [
    "train_preds = lstm_model.predict(X_train)\n",
    "test_preds = lstm_model.predict(X_test)"
   ]
  },
  {
   "cell_type": "code",
   "execution_count": 14,
   "id": "5f81dc79-107b-4589-97e8-5d1e77b88467",
   "metadata": {
    "execution": {
     "iopub.execute_input": "2022-12-20T23:49:57.551071Z",
     "iopub.status.busy": "2022-12-20T23:49:57.550881Z",
     "iopub.status.idle": "2022-12-20T23:49:57.554224Z",
     "shell.execute_reply": "2022-12-20T23:49:57.553757Z",
     "shell.execute_reply.started": "2022-12-20T23:49:57.551054Z"
    },
    "tags": []
   },
   "outputs": [],
   "source": [
    "# inverse transform scaled data\n",
    "\n",
    "data = scaler.inverse_transform(data)\n",
    "train_preds = scaler.inverse_transform(train_preds)\n",
    "test_preds = scaler.inverse_transform(test_preds)"
   ]
  },
  {
   "cell_type": "code",
   "execution_count": 15,
   "id": "ec000012-f1ce-4130-8496-98ae0a6b2506",
   "metadata": {
    "execution": {
     "iopub.execute_input": "2022-12-20T23:49:57.554905Z",
     "iopub.status.busy": "2022-12-20T23:49:57.554731Z",
     "iopub.status.idle": "2022-12-20T23:49:57.750093Z",
     "shell.execute_reply": "2022-12-20T23:49:57.749773Z",
     "shell.execute_reply.started": "2022-12-20T23:49:57.554892Z"
    },
    "tags": []
   },
   "outputs": [
    {
     "data": {
      "text/plain": [
       "<function matplotlib.pyplot.show(close=None, block=None)>"
      ]
     },
     "execution_count": 15,
     "metadata": {},
     "output_type": "execute_result"
    },
    {
     "data": {
      "image/png": "[encoded data removed]",
      "text/plain": [
       "<Figure size 640x480 with 1 Axes>"
      ]
     },
     "metadata": {},
     "output_type": "display_data"
    }
   ],
   "source": [
    "# Plotting the time series of given dataframe\n",
    "idx = len(train_preds)\n",
    "train_dates = df.iloc[0:idx,:].Date\n",
    "test_dates = df.iloc[idx:idx+len(test_preds),:].Date\n",
    "\n",
    "plt.plot(df.Date, data, label='Actual Data')\n",
    "\n",
    "plt.plot(train_dates, train_preds, 'orangered', label='Prediction on Train Data')\n",
    "plt.plot(test_dates, test_preds, 'limegreen', label='Prediction on Test data')\n",
    "\n",
    "# plt.plot(df.iloc[:len(test_preds)].Date, test_preds, 'g-', label='Test Prediction')\n",
    " \n",
    "# Giving title to the chart using plt.title\n",
    "plt.title('Indices-Close/Last')\n",
    " \n",
    "# rotating the x-axis tick labels at 30degree\n",
    "# towards right\n",
    "plt.xticks(rotation=30, ha='right')\n",
    " \n",
    "# Providing x and y label to the chart\n",
    "plt.xlabel('Date')\n",
    "plt.ylabel('Close/Last')\n",
    "\n",
    "plt.legend()\n",
    "plt.show"
   ]
  },
  {
   "cell_type": "code",
   "execution_count": null,
   "id": "07dc5fd1-1c0a-4037-9e63-796f5b2db643",
   "metadata": {},
   "outputs": [],
   "source": []
  }
 ],
 "metadata": {
  "kernelspec": {
   "display_name": "Python 3 (ipykernel)",
   "language": "python",
   "name": "python3"
  },
  "language_info": {
   "codemirror_mode": {
    "name": "ipython",
    "version": 3
   },
   "file_extension": ".py",
   "mimetype": "text/x-python",
   "name": "python",
   "nbconvert_exporter": "python",
   "pygments_lexer": "ipython3",
   "version": "3.10.6"
  }
 },
 "nbformat": 4,
 "nbformat_minor": 5
}
